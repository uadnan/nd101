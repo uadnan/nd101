{
 "cells": [
  {
   "cell_type": "markdown",
   "metadata": {
    "collapsed": true
   },
   "source": [
    "# Image Classification\n",
    "In this project, you'll classify images from the [CIFAR-10 dataset](https://www.cs.toronto.edu/~kriz/cifar.html).  The dataset consists of airplanes, dogs, cats, and other objects. You'll preprocess the images, then train a convolutional neural network on all the samples. The images need to be normalized and the labels need to be one-hot encoded.  You'll get to apply what you learned and build a convolutional, max pooling, dropout, and fully connected layers.  At the end, you'll get to see your neural network's predictions on the sample images.\n",
    "## Get the Data\n",
    "Run the following cell to download the [CIFAR-10 dataset for python](https://www.cs.toronto.edu/~kriz/cifar-10-python.tar.gz)."
   ]
  },
  {
   "cell_type": "code",
   "execution_count": null,
   "metadata": {
    "collapsed": false
   },
   "outputs": [],
   "source": [
    "\"\"\"\n",
    "DON'T MODIFY ANYTHING IN THIS CELL THAT IS BELOW THIS LINE\n",
    "\"\"\"\n",
    "from urllib.request import urlretrieve\n",
    "from os.path import isfile, isdir\n",
    "from tqdm import tqdm\n",
    "import problem_unittests as tests\n",
    "import tarfile\n",
    "\n",
    "cifar10_dataset_folder_path = 'cifar-10-batches-py'\n",
    "\n",
    "class DLProgress(tqdm):\n",
    "    last_block = 0\n",
    "\n",
    "    def hook(self, block_num=1, block_size=1, total_size=None):\n",
    "        self.total = total_size\n",
    "        self.update((block_num - self.last_block) * block_size)\n",
    "        self.last_block = block_num\n",
    "\n",
    "if not isfile('cifar-10-python.tar.gz'):\n",
    "    with DLProgress(unit='B', unit_scale=True, miniters=1, desc='CIFAR-10 Dataset') as pbar:\n",
    "        urlretrieve(\n",
    "            'https://www.cs.toronto.edu/~kriz/cifar-10-python.tar.gz',\n",
    "            'cifar-10-python.tar.gz',\n",
    "            pbar.hook)\n",
    "\n",
    "if not isdir(cifar10_dataset_folder_path):\n",
    "    with tarfile.open('cifar-10-python.tar.gz') as tar:\n",
    "        tar.extractall()\n",
    "        tar.close()\n",
    "\n",
    "\n",
    "tests.test_folder_path(cifar10_dataset_folder_path)"
   ]
  },
  {
   "cell_type": "markdown",
   "metadata": {},
   "source": [
    "## Explore the Data\n",
    "The dataset is broken into batches to prevent your machine from running out of memory.  The CIFAR-10 dataset consists of 5 batches, named `data_batch_1`, `data_batch_2`, etc.. Each batch contains the labels and images that are one of the following:\n",
    "* airplane\n",
    "* automobile\n",
    "* bird\n",
    "* cat\n",
    "* deer\n",
    "* dog\n",
    "* frog\n",
    "* horse\n",
    "* ship\n",
    "* truck\n",
    "\n",
    "Understanding a dataset is part of making predictions on the data.  Play around with the code cell below by changing the `batch_id` and `sample_id`. The `batch_id` is the id for a batch (1-5). The `sample_id` is the id for a image and label pair in the batch.\n",
    "\n",
    "Ask yourself \"What are all possible labels?\", \"What is the range of values for the image data?\", \"Are the labels in order or random?\".  Answers to questions like these will help you preprocess the data and end up with better predictions."
   ]
  },
  {
   "cell_type": "code",
   "execution_count": null,
   "metadata": {
    "collapsed": false
   },
   "outputs": [],
   "source": [
    "%matplotlib inline\n",
    "%config InlineBackend.figure_format = 'retina'\n",
    "\n",
    "import helper\n",
    "import numpy as np\n",
    "\n",
    "# Explore the dataset\n",
    "batch_id = 1\n",
    "sample_id = 5\n",
    "helper.display_stats(cifar10_dataset_folder_path, batch_id, sample_id)"
   ]
  },
  {
   "cell_type": "markdown",
   "metadata": {},
   "source": [
    "## Implement Preprocess Functions\n",
    "### Normalize\n",
    "In the cell below, implement the `normalize` function to take in image data, `x`, and return it as a normalized Numpy array. The values should be in the range of 0 to 1, inclusive.  The return object should be the same shape as `x`."
   ]
  },
  {
   "cell_type": "code",
   "execution_count": null,
   "metadata": {
    "collapsed": false
   },
   "outputs": [],
   "source": [
    "def normalize(x):\n",
    "    \"\"\"\n",
    "    Normalize a list of sample image data in the range of 0 to 1\n",
    "    : x: List of image data.  The image shape is (32, 32, 3)\n",
    "    : return: Numpy array of normalize data\n",
    "    \"\"\"\n",
    "    # TODO: Implement Function\n",
    "    return x / x.max(axis=0)\n",
    "\n",
    "\n",
    "\"\"\"\n",
    "DON'T MODIFY ANYTHING IN THIS CELL THAT IS BELOW THIS LINE\n",
    "\"\"\"\n",
    "tests.test_normalize(normalize)"
   ]
  },
  {
   "cell_type": "markdown",
   "metadata": {},
   "source": [
    "### One-hot encode\n",
    "Just like the previous code cell, you'll be implementing a function for preprocessing.  This time, you'll implement the `one_hot_encode` function. The input, `x`, are a list of labels.  Implement the function to return the list of labels as One-Hot encoded Numpy array.  The possible values for labels are 0 to 9. The one-hot encoding function should return the same encoding for each value between each call to `one_hot_encode`.  Make sure to save the map of encodings outside the function.\n",
    "\n",
    "Hint: Don't reinvent the wheel."
   ]
  },
  {
   "cell_type": "code",
   "execution_count": null,
   "metadata": {
    "collapsed": false
   },
   "outputs": [],
   "source": [
    "from sklearn import preprocessing\n",
    "lb = None\n",
    "\n",
    "def one_hot_encode(x):\n",
    "    \"\"\"\n",
    "    One hot encode a list of sample labels. Return a one-hot encoded vector for each label.\n",
    "    : x: List of sample Labels\n",
    "    : return: Numpy array of one-hot encoded labels\n",
    "    \"\"\"\n",
    "    global lb\n",
    "    if lb is None:\n",
    "        lb = preprocessing.LabelBinarizer()\n",
    "        lb.fit(x)\n",
    "\n",
    "    return lb.transform(x)\n",
    "\n",
    "\n",
    "\"\"\"\n",
    "DON'T MODIFY ANYTHING IN THIS CELL THAT IS BELOW THIS LINE\n",
    "\"\"\"\n",
    "tests.test_one_hot_encode(one_hot_encode)"
   ]
  },
  {
   "cell_type": "markdown",
   "metadata": {},
   "source": [
    "### Randomize Data\n",
    "As you saw from exploring the data above, the order of the samples are randomized.  It doesn't hurt to randomize it again, but you don't need to for this dataset."
   ]
  },
  {
   "cell_type": "markdown",
   "metadata": {},
   "source": [
    "## Preprocess all the data and save it\n",
    "Running the code cell below will preprocess all the CIFAR-10 data and save it to file. The code below also uses 10% of the training data for validation."
   ]
  },
  {
   "cell_type": "code",
   "execution_count": null,
   "metadata": {
    "collapsed": false
   },
   "outputs": [],
   "source": [
    "\"\"\"\n",
    "DON'T MODIFY ANYTHING IN THIS CELL\n",
    "\"\"\"\n",
    "# Preprocess Training, Validation, and Testing Data\n",
    "helper.preprocess_and_save_data(cifar10_dataset_folder_path, normalize, one_hot_encode)"
   ]
  },
  {
   "cell_type": "markdown",
   "metadata": {},
   "source": [
    "# Check Point\n",
    "This is your first checkpoint.  If you ever decide to come back to this notebook or have to restart the notebook, you can start from here.  The preprocessed data has been saved to disk."
   ]
  },
  {
   "cell_type": "code",
   "execution_count": 1,
   "metadata": {
    "collapsed": true
   },
   "outputs": [],
   "source": [
    "\"\"\"\n",
    "DON'T MODIFY ANYTHING IN THIS CELL\n",
    "\"\"\"\n",
    "import pickle\n",
    "import problem_unittests as tests\n",
    "import helper\n",
    "\n",
    "# Load the Preprocessed Validation data\n",
    "valid_features, valid_labels = pickle.load(open('preprocess_validation.p', mode='rb'))"
   ]
  },
  {
   "cell_type": "markdown",
   "metadata": {},
   "source": [
    "## Build the network\n",
    "For the neural network, you'll build each layer into a function.  Most of the code you've seen has been outside of functions. To test your code more thoroughly, we require that you put each layer in a function.  This allows us to give you better feedback and test for simple mistakes using our unittests before you submit your project.\n",
    "\n",
    ">**Note:** If you're finding it hard to dedicate enough time for this course each week, we've provided a small shortcut to this part of the project. In the next couple of problems, you'll have the option to use classes from the [TensorFlow Layers](https://www.tensorflow.org/api_docs/python/tf/layers) or [TensorFlow Layers (contrib)](https://www.tensorflow.org/api_guides/python/contrib.layers) packages to build each layer, except the layers you build in the \"Convolutional and Max Pooling Layer\" section.  TF Layers is similar to Keras's and TFLearn's abstraction to layers, so it's easy to pickup.\n",
    "\n",
    ">However, if you would like to get the most out of this course, try to solve all the problems _without_ using anything from the TF Layers packages. You **can** still use classes from other packages that happen to have the same name as ones you find in TF Layers! For example, instead of using the TF Layers version of the `conv2d` class, [tf.layers.conv2d](https://www.tensorflow.org/api_docs/python/tf/layers/conv2d), you would want to use the TF Neural Network version of `conv2d`, [tf.nn.conv2d](https://www.tensorflow.org/api_docs/python/tf/nn/conv2d). \n",
    "\n",
    "Let's begin!\n",
    "\n",
    "### Input\n",
    "The neural network needs to read the image data, one-hot encoded labels, and dropout keep probability. Implement the following functions\n",
    "* Implement `neural_net_image_input`\n",
    " * Return a [TF Placeholder](https://www.tensorflow.org/api_docs/python/tf/placeholder)\n",
    " * Set the shape using `image_shape` with batch size set to `None`.\n",
    " * Name the TensorFlow placeholder \"x\" using the TensorFlow `name` parameter in the [TF Placeholder](https://www.tensorflow.org/api_docs/python/tf/placeholder).\n",
    "* Implement `neural_net_label_input`\n",
    " * Return a [TF Placeholder](https://www.tensorflow.org/api_docs/python/tf/placeholder)\n",
    " * Set the shape using `n_classes` with batch size set to `None`.\n",
    " * Name the TensorFlow placeholder \"y\" using the TensorFlow `name` parameter in the [TF Placeholder](https://www.tensorflow.org/api_docs/python/tf/placeholder).\n",
    "* Implement `neural_net_keep_prob_input`\n",
    " * Return a [TF Placeholder](https://www.tensorflow.org/api_docs/python/tf/placeholder) for dropout keep probability.\n",
    " * Name the TensorFlow placeholder \"keep_prob\" using the TensorFlow `name` parameter in the [TF Placeholder](https://www.tensorflow.org/api_docs/python/tf/placeholder).\n",
    "\n",
    "These names will be used at the end of the project to load your saved model.\n",
    "\n",
    "Note: `None` for shapes in TensorFlow allow for a dynamic size."
   ]
  },
  {
   "cell_type": "code",
   "execution_count": 2,
   "metadata": {
    "collapsed": false
   },
   "outputs": [
    {
     "name": "stdout",
     "output_type": "stream",
     "text": [
      "Image Input Tests Passed.\n",
      "Label Input Tests Passed.\n",
      "Keep Prob Tests Passed.\n"
     ]
    }
   ],
   "source": [
    "import tensorflow as tf\n",
    "\n",
    "def neural_net_image_input(image_shape):\n",
    "    \"\"\"\n",
    "    Return a Tensor for a bach of image input\n",
    "    : image_shape: Shape of the images\n",
    "    : return: Tensor for image input.\n",
    "    \"\"\"\n",
    "    return tf.placeholder(tf.float32, (None, *image_shape), name=\"x\")\n",
    "\n",
    "\n",
    "def neural_net_label_input(n_classes):\n",
    "    \"\"\"\n",
    "    Return a Tensor for a batch of label input\n",
    "    : n_classes: Number of classes\n",
    "    : return: Tensor for label input.\n",
    "    \"\"\"\n",
    "    return tf.placeholder(tf.float32, (None, n_classes), name=\"y\")\n",
    "\n",
    "\n",
    "def neural_net_keep_prob_input():\n",
    "    \"\"\"\n",
    "    Return a Tensor for keep probability\n",
    "    : return: Tensor for keep probability.\n",
    "    \"\"\"\n",
    "    return tf.placeholder(tf.float32, name=\"keep_prob\")\n",
    "\n",
    "\n",
    "\"\"\"\n",
    "DON'T MODIFY ANYTHING IN THIS CELL THAT IS BELOW THIS LINE\n",
    "\"\"\"\n",
    "tf.reset_default_graph()\n",
    "tests.test_nn_image_inputs(neural_net_image_input)\n",
    "tests.test_nn_label_inputs(neural_net_label_input)\n",
    "tests.test_nn_keep_prob_inputs(neural_net_keep_prob_input)"
   ]
  },
  {
   "cell_type": "markdown",
   "metadata": {},
   "source": [
    "### Convolution and Max Pooling Layer\n",
    "Convolution layers have a lot of success with images. For this code cell, you should implement the function `conv2d_maxpool` to apply convolution then max pooling:\n",
    "* Create the weight and bias using `conv_ksize`, `conv_num_outputs` and the shape of `x_tensor`.\n",
    "* Apply a convolution to `x_tensor` using weight and `conv_strides`.\n",
    " * We recommend you use same padding, but you're welcome to use any padding.\n",
    "* Add bias\n",
    "* Add a nonlinear activation to the convolution.\n",
    "* Apply Max Pooling using `pool_ksize` and `pool_strides`.\n",
    " * We recommend you use same padding, but you're welcome to use any padding.\n",
    "\n",
    "**Note:** You **can't** use [TensorFlow Layers](https://www.tensorflow.org/api_docs/python/tf/layers) or [TensorFlow Layers (contrib)](https://www.tensorflow.org/api_guides/python/contrib.layers) for **this** layer, but you can still use TensorFlow's [Neural Network](https://www.tensorflow.org/api_docs/python/tf/nn) package. You may still use the shortcut option for all the **other** layers."
   ]
  },
  {
   "cell_type": "code",
   "execution_count": 3,
   "metadata": {
    "collapsed": false
   },
   "outputs": [
    {
     "name": "stdout",
     "output_type": "stream",
     "text": [
      "Tests Passed\n"
     ]
    }
   ],
   "source": [
    "def conv2d_maxpool(x_tensor, conv_num_outputs, conv_ksize, conv_strides, pool_ksize, pool_strides):\n",
    "    \"\"\"\n",
    "    Apply convolution then max pooling to x_tensor\n",
    "    :param x_tensor: TensorFlow Tensor\n",
    "    :param conv_num_outputs: Number of outputs for the convolutional layer\n",
    "    :param conv_ksize: kernal size 2-D Tuple for the convolutional layer\n",
    "    :param conv_strides: Stride 2-D Tuple for convolution\n",
    "    :param pool_ksize: kernal size 2-D Tuple for pool\n",
    "    :param pool_strides: Stride 2-D Tuple for pool\n",
    "    : return: A tensor that represents convolution and max pooling of x_tensor\n",
    "    \"\"\"\n",
    "    weights = tf.Variable(\n",
    "        tf.random_normal([*conv_ksize, x_tensor.get_shape().as_list()[-1], conv_num_outputs], stddev=0.1))\n",
    "    bias = tf.Variable(tf.zeros(conv_num_outputs,dtype=tf.float32))\n",
    "    \n",
    "    conv_layer = tf.nn.conv2d(x_tensor, weights, strides=[1, *conv_strides, 1], padding='SAME')\n",
    "    conv_layer = tf.nn.bias_add(conv_layer, bias)\n",
    "    conv_layer = tf.nn.relu(conv_layer)\n",
    "    \n",
    "    return tf.nn.max_pool(\n",
    "        conv_layer,\n",
    "        ksize=[1, *pool_ksize, 1],\n",
    "        strides=[1, *pool_strides, 1],\n",
    "        padding='SAME'\n",
    "    )\n",
    "\n",
    "\"\"\"\n",
    "DON'T MODIFY ANYTHING IN THIS CELL THAT IS BELOW THIS LINE\n",
    "\"\"\"\n",
    "tests.test_con_pool(conv2d_maxpool)"
   ]
  },
  {
   "cell_type": "markdown",
   "metadata": {},
   "source": [
    "### Flatten Layer\n",
    "Implement the `flatten` function to change the dimension of `x_tensor` from a 4-D tensor to a 2-D tensor.  The output should be the shape (*Batch Size*, *Flattened Image Size*). Shortcut option: you can use classes from the [TensorFlow Layers](https://www.tensorflow.org/api_docs/python/tf/layers) or [TensorFlow Layers (contrib)](https://www.tensorflow.org/api_guides/python/contrib.layers) packages for this layer. For more of a challenge, only use other TensorFlow packages."
   ]
  },
  {
   "cell_type": "code",
   "execution_count": 4,
   "metadata": {
    "collapsed": false
   },
   "outputs": [
    {
     "name": "stdout",
     "output_type": "stream",
     "text": [
      "Tests Passed\n"
     ]
    }
   ],
   "source": [
    "def flatten(x_tensor):\n",
    "    \"\"\"\n",
    "    Flatten x_tensor to (Batch Size, Flattened Image Size)\n",
    "    : x_tensor: A tensor of size (Batch Size, ...), where ... are the image dimensions.\n",
    "    : return: A tensor of size (Batch Size, Flattened Image Size).\n",
    "    \"\"\"\n",
    "    return tf.contrib.layers.flatten(x_tensor)\n",
    "\n",
    "\n",
    "\"\"\"\n",
    "DON'T MODIFY ANYTHING IN THIS CELL THAT IS BELOW THIS LINE\n",
    "\"\"\"\n",
    "tests.test_flatten(flatten)"
   ]
  },
  {
   "cell_type": "markdown",
   "metadata": {},
   "source": [
    "### Fully-Connected Layer\n",
    "Implement the `fully_conn` function to apply a fully connected layer to `x_tensor` with the shape (*Batch Size*, *num_outputs*). Shortcut option: you can use classes from the [TensorFlow Layers](https://www.tensorflow.org/api_docs/python/tf/layers) or [TensorFlow Layers (contrib)](https://www.tensorflow.org/api_guides/python/contrib.layers) packages for this layer. For more of a challenge, only use other TensorFlow packages."
   ]
  },
  {
   "cell_type": "code",
   "execution_count": 5,
   "metadata": {
    "collapsed": false
   },
   "outputs": [
    {
     "name": "stdout",
     "output_type": "stream",
     "text": [
      "Tests Passed\n"
     ]
    }
   ],
   "source": [
    "def fully_conn(x_tensor, num_outputs):\n",
    "    \"\"\"\n",
    "    Apply a fully connected layer to x_tensor using weight and bias\n",
    "    : x_tensor: A 2-D tensor where the first dimension is batch size.\n",
    "    : num_outputs: The number of output that the new tensor should be.\n",
    "    : return: A 2-D tensor where the second dimension is num_outputs.\n",
    "    \"\"\"\n",
    "    return tf.contrib.layers.fully_connected(inputs=x_tensor, num_outputs=num_outputs)\n",
    "\n",
    "\n",
    "\"\"\"\n",
    "DON'T MODIFY ANYTHING IN THIS CELL THAT IS BELOW THIS LINE\n",
    "\"\"\"\n",
    "tests.test_fully_conn(fully_conn)"
   ]
  },
  {
   "cell_type": "markdown",
   "metadata": {},
   "source": [
    "### Output Layer\n",
    "Implement the `output` function to apply a fully connected layer to `x_tensor` with the shape (*Batch Size*, *num_outputs*). Shortcut option: you can use classes from the [TensorFlow Layers](https://www.tensorflow.org/api_docs/python/tf/layers) or [TensorFlow Layers (contrib)](https://www.tensorflow.org/api_guides/python/contrib.layers) packages for this layer. For more of a challenge, only use other TensorFlow packages.\n",
    "\n",
    "**Note:** Activation, softmax, or cross entropy should **not** be applied to this."
   ]
  },
  {
   "cell_type": "code",
   "execution_count": 6,
   "metadata": {
    "collapsed": false
   },
   "outputs": [
    {
     "name": "stdout",
     "output_type": "stream",
     "text": [
      "Tests Passed\n"
     ]
    }
   ],
   "source": [
    "def output(x_tensor, num_outputs):\n",
    "    \"\"\"\n",
    "    Apply a output layer to x_tensor using weight and bias\n",
    "    : x_tensor: A 2-D tensor where the first dimension is batch size.\n",
    "    : num_outputs: The number of output that the new tensor should be.\n",
    "    : return: A 2-D tensor where the second dimension is num_outputs.\n",
    "    \"\"\"\n",
    "    return tf.contrib.layers.fully_connected(inputs=x_tensor, num_outputs=num_outputs, activation_fn=None)\n",
    "\n",
    "\n",
    "\"\"\"\n",
    "DON'T MODIFY ANYTHING IN THIS CELL THAT IS BELOW THIS LINE\n",
    "\"\"\"\n",
    "tests.test_output(output)"
   ]
  },
  {
   "cell_type": "markdown",
   "metadata": {},
   "source": [
    "### Create Convolutional Model\n",
    "Implement the function `conv_net` to create a convolutional neural network model. The function takes in a batch of images, `x`, and outputs logits.  Use the layers you created above to create this model:\n",
    "\n",
    "* Apply 1, 2, or 3 Convolution and Max Pool layers\n",
    "* Apply a Flatten Layer\n",
    "* Apply 1, 2, or 3 Fully Connected Layers\n",
    "* Apply an Output Layer\n",
    "* Return the output\n",
    "* Apply [TensorFlow's Dropout](https://www.tensorflow.org/api_docs/python/tf/nn/dropout) to one or more layers in the model using `keep_prob`. "
   ]
  },
  {
   "cell_type": "code",
   "execution_count": 7,
   "metadata": {
    "collapsed": false
   },
   "outputs": [
    {
     "name": "stdout",
     "output_type": "stream",
     "text": [
      "Neural Network Built!\n"
     ]
    }
   ],
   "source": [
    "num_outputs = 10\n",
    "conv_ksize = (8, 8)\n",
    "conv_strides = (1, 1)\n",
    "pool_ksize = (2, 2)\n",
    "pool_strides = (2, 2)\n",
    "\n",
    "    \n",
    "def conv_net(x_tensor, keep_prob):\n",
    "    \"\"\"\n",
    "    Create a convolutional neural network model\n",
    "    : x: Placeholder tensor that holds image data.\n",
    "    : keep_prob: Placeholder tensor that hold dropout keep probability.\n",
    "    : return: Tensor that represents logits\n",
    "    \"\"\"\n",
    "    # TODO: Apply 1, 2, or 3 Convolution and Max Pool layers\n",
    "    #    Play around with different number of outputs, kernel size and stride\n",
    "    conv_layer = conv2d_maxpool(x_tensor, num_outputs, conv_ksize, conv_strides, pool_ksize, pool_strides)\n",
    "    conv_layer = conv2d_maxpool(conv_layer, num_outputs, conv_ksize, conv_strides, pool_ksize, pool_strides)\n",
    "    \n",
    "    # TODO: Apply a Flatten Layer\n",
    "    conv_layer_flattern = flatten(conv_layer)\n",
    "    \n",
    "\n",
    "    # TODO: Apply 1, 2, or 3 Fully Connected Layers\n",
    "    #    Play around with different number of outputs\n",
    "    fully_conn_layer = fully_conn(conv_layer_flattern, num_outputs)\n",
    "    #fully_conn_layer = fully_conn(fully_conn_layer, num_outputs)\n",
    "    dropedout_fully_conn_layer = tf.nn.dropout(fully_conn_layer, keep_prob)\n",
    "    \n",
    "    \n",
    "    # TODO: Apply an Output Layer\n",
    "    #    Set this to the number of classes\n",
    "    return output(dropedout_fully_conn_layer, num_outputs)\n",
    "\n",
    "\n",
    "\"\"\"\n",
    "DON'T MODIFY ANYTHING IN THIS CELL THAT IS BELOW THIS LINE\n",
    "\"\"\"\n",
    "\n",
    "##############################\n",
    "## Build the Neural Network ##\n",
    "##############################\n",
    "\n",
    "# Remove previous weights, bias, inputs, etc..\n",
    "tf.reset_default_graph()\n",
    "\n",
    "# Inputs\n",
    "x = neural_net_image_input((32, 32, 3))\n",
    "y = neural_net_label_input(10)\n",
    "keep_prob = neural_net_keep_prob_input()\n",
    "\n",
    "# Model\n",
    "logits = conv_net(x, keep_prob)\n",
    "\n",
    "# Name logits Tensor, so that is can be loaded from disk after training\n",
    "logits = tf.identity(logits, name='logits')\n",
    "\n",
    "# Loss and Optimizer\n",
    "cost = tf.reduce_mean(tf.nn.softmax_cross_entropy_with_logits(logits=logits, labels=y))\n",
    "optimizer = tf.train.AdamOptimizer().minimize(cost)\n",
    "\n",
    "# Accuracy\n",
    "correct_pred = tf.equal(tf.argmax(logits, 1), tf.argmax(y, 1))\n",
    "accuracy = tf.reduce_mean(tf.cast(correct_pred, tf.float32), name='accuracy')\n",
    "\n",
    "tests.test_conv_net(conv_net)"
   ]
  },
  {
   "cell_type": "markdown",
   "metadata": {},
   "source": [
    "## Train the Neural Network\n",
    "### Single Optimization\n",
    "Implement the function `train_neural_network` to do a single optimization.  The optimization should use `optimizer` to optimize in `session` with a `feed_dict` of the following:\n",
    "* `x` for image input\n",
    "* `y` for labels\n",
    "* `keep_prob` for keep probability for dropout\n",
    "\n",
    "This function will be called for each batch, so `tf.global_variables_initializer()` has already been called.\n",
    "\n",
    "Note: Nothing needs to be returned. This function is only optimizing the neural network."
   ]
  },
  {
   "cell_type": "code",
   "execution_count": 8,
   "metadata": {
    "collapsed": false
   },
   "outputs": [
    {
     "name": "stdout",
     "output_type": "stream",
     "text": [
      "Tests Passed\n"
     ]
    }
   ],
   "source": [
    "def train_neural_network(session, optimizer, keep_probability, feature_batch, label_batch):\n",
    "    \"\"\"\n",
    "    Optimize the session on a batch of images and labels\n",
    "    : session: Current TensorFlow session\n",
    "    : optimizer: TensorFlow optimizer function\n",
    "    : keep_probability: keep probability\n",
    "    : feature_batch: Batch of Numpy image data\n",
    "    : label_batch: Batch of Numpy label data\n",
    "    \"\"\"\n",
    "    session.run(optimizer, feed_dict={\"x:0\": feature_batch, \"y:0\": label_batch, \"keep_prob:0\": keep_probability})\n",
    "\n",
    "\"\"\"\n",
    "DON'T MODIFY ANYTHING IN THIS CELL THAT IS BELOW THIS LINE\n",
    "\"\"\"\n",
    "tests.test_train_nn(train_neural_network)"
   ]
  },
  {
   "cell_type": "markdown",
   "metadata": {},
   "source": [
    "### Show Stats\n",
    "Implement the function `print_stats` to print loss and validation accuracy.  Use the global variables `valid_features` and `valid_labels` to calculate validation accuracy.  Use a keep probability of `1.0` to calculate the loss and validation accuracy."
   ]
  },
  {
   "cell_type": "code",
   "execution_count": 9,
   "metadata": {
    "collapsed": false
   },
   "outputs": [],
   "source": [
    "def print_stats(session, feature_batch, label_batch, cost, accuracy):\n",
    "    \"\"\"\n",
    "    Print information about loss and validation accuracy\n",
    "    : session: Current TensorFlow session\n",
    "    : feature_batch: Batch of Numpy image data\n",
    "    : label_batch: Batch of Numpy label data\n",
    "    : cost: TensorFlow cost function\n",
    "    : accuracy: TensorFlow accuracy function\n",
    "    \"\"\"\n",
    "    # TODO: Implement Function\n",
    "    loss = session.run(cost, feed_dict={x: feature_batch, y: label_batch, keep_prob: 1.0})\n",
    "    accuracy = session.run(accuracy, feed_dict={x: valid_features, y: valid_labels, keep_prob: 1.0})\n",
    "    print(\"Loss: {}, Accuracy: {}\".format(loss, accuracy))\n"
   ]
  },
  {
   "cell_type": "markdown",
   "metadata": {},
   "source": [
    "### Hyperparameters\n",
    "Tune the following parameters:\n",
    "* Set `epochs` to the number of iterations until the network stops learning or start overfitting\n",
    "* Set `batch_size` to the highest number that your machine has memory for.  Most people set them to common sizes of memory:\n",
    " * 64\n",
    " * 128\n",
    " * 256\n",
    " * ...\n",
    "* Set `keep_probability` to the probability of keeping a node using dropout"
   ]
  },
  {
   "cell_type": "code",
   "execution_count": 10,
   "metadata": {
    "collapsed": true
   },
   "outputs": [],
   "source": [
    "# TODO: Tune Parameters\n",
    "epochs = 20\n",
    "batch_size = 64\n",
    "keep_probability = 0.75"
   ]
  },
  {
   "cell_type": "markdown",
   "metadata": {},
   "source": [
    "### Train on a Single CIFAR-10 Batch\n",
    "Instead of training the neural network on all the CIFAR-10 batches of data, let's use a single batch. This should save time while you iterate on the model to get a better accuracy.  Once the final validation accuracy is 50% or greater, run the model on all the data in the next section."
   ]
  },
  {
   "cell_type": "code",
   "execution_count": 11,
   "metadata": {
    "collapsed": false
   },
   "outputs": [
    {
     "name": "stdout",
     "output_type": "stream",
     "text": [
      "Checking the Training on a Single Batch...\n",
      "Epoch  1, CIFAR-10 Batch 1:  Loss: 2.220254898071289, Accuracy: 0.2085999995470047\n",
      "Epoch  2, CIFAR-10 Batch 1:  Loss: 2.2787227630615234, Accuracy: 0.24959999322891235\n",
      "Epoch  3, CIFAR-10 Batch 1:  Loss: 2.168649196624756, Accuracy: 0.2773999869823456\n",
      "Epoch  4, CIFAR-10 Batch 1:  Loss: 2.1110565662384033, Accuracy: 0.29420000314712524\n",
      "Epoch  5, CIFAR-10 Batch 1:  Loss: 2.045649766921997, Accuracy: 0.31220000982284546\n",
      "Epoch  6, CIFAR-10 Batch 1:  Loss: 1.9888479709625244, Accuracy: 0.3089999854564667\n",
      "Epoch  7, CIFAR-10 Batch 1:  Loss: 1.952035903930664, Accuracy: 0.33480000495910645\n",
      "Epoch  8, CIFAR-10 Batch 1:  Loss: 1.9147392511367798, Accuracy: 0.33239999413490295\n",
      "Epoch  9, CIFAR-10 Batch 1:  Loss: 1.9353078603744507, Accuracy: 0.3508000075817108\n",
      "Epoch 10, CIFAR-10 Batch 1:  Loss: 1.868438720703125, Accuracy: 0.3734000027179718\n",
      "Epoch 11, CIFAR-10 Batch 1:  Loss: 1.728144884109497, Accuracy: 0.39100000262260437\n",
      "Epoch 12, CIFAR-10 Batch 1:  Loss: 1.6915355920791626, Accuracy: 0.39739999175071716\n",
      "Epoch 13, CIFAR-10 Batch 1:  Loss: 1.6799430847167969, Accuracy: 0.40459999442100525\n",
      "Epoch 14, CIFAR-10 Batch 1:  Loss: 1.5989816188812256, Accuracy: 0.4244000017642975\n",
      "Epoch 15, CIFAR-10 Batch 1:  Loss: 1.6042152643203735, Accuracy: 0.43459999561309814\n",
      "Epoch 16, CIFAR-10 Batch 1:  Loss: 1.5813571214675903, Accuracy: 0.4309999942779541\n",
      "Epoch 17, CIFAR-10 Batch 1:  Loss: 1.4844142198562622, Accuracy: 0.43560001254081726\n",
      "Epoch 18, CIFAR-10 Batch 1:  Loss: 1.4785524606704712, Accuracy: 0.4311999976634979\n",
      "Epoch 19, CIFAR-10 Batch 1:  Loss: 1.4425588846206665, Accuracy: 0.4406000077724457\n",
      "Epoch 20, CIFAR-10 Batch 1:  Loss: 1.4051589965820312, Accuracy: 0.4453999996185303\n"
     ]
    }
   ],
   "source": [
    "\"\"\"\n",
    "DON'T MODIFY ANYTHING IN THIS CELL\n",
    "\"\"\"\n",
    "print('Checking the Training on a Single Batch...')\n",
    "with tf.Session() as sess:\n",
    "    # Initializing the variables\n",
    "    sess.run(tf.global_variables_initializer())\n",
    "    \n",
    "    # Training cycle\n",
    "    for epoch in range(epochs):\n",
    "        batch_i = 1\n",
    "        for batch_features, batch_labels in helper.load_preprocess_training_batch(batch_i, batch_size):\n",
    "            train_neural_network(sess, optimizer, keep_probability, batch_features, batch_labels)\n",
    "        print('Epoch {:>2}, CIFAR-10 Batch {}:  '.format(epoch + 1, batch_i), end='')\n",
    "        print_stats(sess, batch_features, batch_labels, cost, accuracy)"
   ]
  },
  {
   "cell_type": "markdown",
   "metadata": {},
   "source": [
    "### Fully Train the Model\n",
    "Now that you got a good accuracy with a single CIFAR-10 batch, try it with all five batches."
   ]
  },
  {
   "cell_type": "code",
   "execution_count": 14,
   "metadata": {
    "collapsed": false
   },
   "outputs": [
    {
     "name": "stdout",
     "output_type": "stream",
     "text": [
      "Training...\n",
      "Epoch  1, CIFAR-10 Batch 1:  Loss: 2.184479236602783, Accuracy: 0.2612000107765198\n",
      "Epoch  1, CIFAR-10 Batch 2:  Loss: 1.935948133468628, Accuracy: 0.3190000057220459\n",
      "Epoch  1, CIFAR-10 Batch 3:  Loss: 1.642348051071167, Accuracy: 0.38260000944137573\n",
      "Epoch  1, CIFAR-10 Batch 4:  Loss: 1.7354907989501953, Accuracy: 0.38679999113082886\n",
      "Epoch  1, CIFAR-10 Batch 5:  Loss: 1.728027582168579, Accuracy: 0.4068000018596649\n",
      "Epoch  2, CIFAR-10 Batch 1:  Loss: 1.935478925704956, Accuracy: 0.426800012588501\n",
      "Epoch  2, CIFAR-10 Batch 2:  Loss: 1.6839052438735962, Accuracy: 0.4352000057697296\n",
      "Epoch  2, CIFAR-10 Batch 3:  Loss: 1.3618055582046509, Accuracy: 0.45980000495910645\n",
      "Epoch  2, CIFAR-10 Batch 4:  Loss: 1.5571949481964111, Accuracy: 0.45840001106262207\n",
      "Epoch  2, CIFAR-10 Batch 5:  Loss: 1.5690237283706665, Accuracy: 0.46480000019073486\n",
      "Epoch  3, CIFAR-10 Batch 1:  Loss: 1.677249550819397, Accuracy: 0.4848000109195709\n",
      "Epoch  3, CIFAR-10 Batch 2:  Loss: 1.6984684467315674, Accuracy: 0.4713999927043915\n",
      "Epoch  3, CIFAR-10 Batch 3:  Loss: 1.3302438259124756, Accuracy: 0.4787999987602234\n",
      "Epoch  3, CIFAR-10 Batch 4:  Loss: 1.4444000720977783, Accuracy: 0.490200012922287\n",
      "Epoch  3, CIFAR-10 Batch 5:  Loss: 1.450042724609375, Accuracy: 0.49079999327659607\n",
      "Epoch  4, CIFAR-10 Batch 1:  Loss: 1.6779836416244507, Accuracy: 0.5059999823570251\n",
      "Epoch  4, CIFAR-10 Batch 2:  Loss: 1.5956313610076904, Accuracy: 0.5080000162124634\n",
      "Epoch  4, CIFAR-10 Batch 3:  Loss: 1.3040231466293335, Accuracy: 0.4986000061035156\n",
      "Epoch  4, CIFAR-10 Batch 4:  Loss: 1.486673355102539, Accuracy: 0.5023999810218811\n",
      "Epoch  4, CIFAR-10 Batch 5:  Loss: 1.4501289129257202, Accuracy: 0.5067999958992004\n",
      "Epoch  5, CIFAR-10 Batch 1:  Loss: 1.685577392578125, Accuracy: 0.5009999871253967\n",
      "Epoch  5, CIFAR-10 Batch 2:  Loss: 1.515174150466919, Accuracy: 0.4959999918937683\n",
      "Epoch  5, CIFAR-10 Batch 3:  Loss: 1.2305679321289062, Accuracy: 0.5005999803543091\n",
      "Epoch  5, CIFAR-10 Batch 4:  Loss: 1.37181556224823, Accuracy: 0.5113999843597412\n",
      "Epoch  5, CIFAR-10 Batch 5:  Loss: 1.4879518747329712, Accuracy: 0.5037999749183655\n",
      "Epoch  6, CIFAR-10 Batch 1:  Loss: 1.523796796798706, Accuracy: 0.5260000228881836\n",
      "Epoch  6, CIFAR-10 Batch 2:  Loss: 1.5025427341461182, Accuracy: 0.49959999322891235\n",
      "Epoch  6, CIFAR-10 Batch 3:  Loss: 1.1654541492462158, Accuracy: 0.5134000182151794\n",
      "Epoch  6, CIFAR-10 Batch 4:  Loss: 1.3713302612304688, Accuracy: 0.5320000052452087\n",
      "Epoch  6, CIFAR-10 Batch 5:  Loss: 1.34383225440979, Accuracy: 0.5311999917030334\n",
      "Epoch  7, CIFAR-10 Batch 1:  Loss: 1.4665355682373047, Accuracy: 0.5386000275611877\n",
      "Epoch  7, CIFAR-10 Batch 2:  Loss: 1.3671042919158936, Accuracy: 0.520799994468689\n",
      "Epoch  7, CIFAR-10 Batch 3:  Loss: 1.1781225204467773, Accuracy: 0.5257999897003174\n",
      "Epoch  7, CIFAR-10 Batch 4:  Loss: 1.3933618068695068, Accuracy: 0.5360000133514404\n",
      "Epoch  7, CIFAR-10 Batch 5:  Loss: 1.3621034622192383, Accuracy: 0.527999997138977\n",
      "Epoch  8, CIFAR-10 Batch 1:  Loss: 1.529891014099121, Accuracy: 0.5414000153541565\n",
      "Epoch  8, CIFAR-10 Batch 2:  Loss: 1.427067756652832, Accuracy: 0.5332000255584717\n",
      "Epoch  8, CIFAR-10 Batch 3:  Loss: 1.144482970237732, Accuracy: 0.5275999903678894\n",
      "Epoch  8, CIFAR-10 Batch 4:  Loss: 1.3304755687713623, Accuracy: 0.5299999713897705\n",
      "Epoch  8, CIFAR-10 Batch 5:  Loss: 1.2768065929412842, Accuracy: 0.5411999821662903\n",
      "Epoch  9, CIFAR-10 Batch 1:  Loss: 1.4739806652069092, Accuracy: 0.5411999821662903\n",
      "Epoch  9, CIFAR-10 Batch 2:  Loss: 1.2839081287384033, Accuracy: 0.5350000262260437\n",
      "Epoch  9, CIFAR-10 Batch 3:  Loss: 1.0822207927703857, Accuracy: 0.5415999889373779\n",
      "Epoch  9, CIFAR-10 Batch 4:  Loss: 1.3234463930130005, Accuracy: 0.5455999970436096\n",
      "Epoch  9, CIFAR-10 Batch 5:  Loss: 1.3053271770477295, Accuracy: 0.5401999950408936\n",
      "Epoch 10, CIFAR-10 Batch 1:  Loss: 1.362945318222046, Accuracy: 0.546999990940094\n",
      "Epoch 10, CIFAR-10 Batch 2:  Loss: 1.3445768356323242, Accuracy: 0.5388000011444092\n",
      "Epoch 10, CIFAR-10 Batch 3:  Loss: 1.0913169384002686, Accuracy: 0.5407999753952026\n",
      "Epoch 10, CIFAR-10 Batch 4:  Loss: 1.269630789756775, Accuracy: 0.5401999950408936\n",
      "Epoch 10, CIFAR-10 Batch 5:  Loss: 1.267258882522583, Accuracy: 0.5365999937057495\n",
      "Epoch 11, CIFAR-10 Batch 1:  Loss: 1.3570210933685303, Accuracy: 0.5564000010490417\n",
      "Epoch 11, CIFAR-10 Batch 2:  Loss: 1.2715351581573486, Accuracy: 0.5461999773979187\n",
      "Epoch 11, CIFAR-10 Batch 3:  Loss: 1.1019704341888428, Accuracy: 0.531000018119812\n",
      "Epoch 11, CIFAR-10 Batch 4:  Loss: 1.2651054859161377, Accuracy: 0.54339998960495\n",
      "Epoch 11, CIFAR-10 Batch 5:  Loss: 1.2121405601501465, Accuracy: 0.545799970626831\n",
      "Epoch 12, CIFAR-10 Batch 1:  Loss: 1.355396032333374, Accuracy: 0.553600013256073\n",
      "Epoch 12, CIFAR-10 Batch 2:  Loss: 1.2157444953918457, Accuracy: 0.5586000084877014\n",
      "Epoch 12, CIFAR-10 Batch 3:  Loss: 1.094069480895996, Accuracy: 0.5460000038146973\n",
      "Epoch 12, CIFAR-10 Batch 4:  Loss: 1.258604645729065, Accuracy: 0.550000011920929\n",
      "Epoch 12, CIFAR-10 Batch 5:  Loss: 1.214056134223938, Accuracy: 0.5446000099182129\n",
      "Epoch 13, CIFAR-10 Batch 1:  Loss: 1.3416664600372314, Accuracy: 0.5587999820709229\n",
      "Epoch 13, CIFAR-10 Batch 2:  Loss: 1.194730520248413, Accuracy: 0.5605999827384949\n",
      "Epoch 13, CIFAR-10 Batch 3:  Loss: 1.0031543970108032, Accuracy: 0.5522000193595886\n",
      "Epoch 13, CIFAR-10 Batch 4:  Loss: 1.2184292078018188, Accuracy: 0.5519999861717224\n",
      "Epoch 13, CIFAR-10 Batch 5:  Loss: 1.2396342754364014, Accuracy: 0.5612000226974487\n",
      "Epoch 14, CIFAR-10 Batch 1:  Loss: 1.3122570514678955, Accuracy: 0.5667999982833862\n",
      "Epoch 14, CIFAR-10 Batch 2:  Loss: 1.1971412897109985, Accuracy: 0.5648000240325928\n",
      "Epoch 14, CIFAR-10 Batch 3:  Loss: 1.0314035415649414, Accuracy: 0.5582000017166138\n",
      "Epoch 14, CIFAR-10 Batch 4:  Loss: 1.2637335062026978, Accuracy: 0.5586000084877014\n",
      "Epoch 14, CIFAR-10 Batch 5:  Loss: 1.1750644445419312, Accuracy: 0.5616000294685364\n",
      "Epoch 15, CIFAR-10 Batch 1:  Loss: 1.3076375722885132, Accuracy: 0.5687999725341797\n",
      "Epoch 15, CIFAR-10 Batch 2:  Loss: 1.2893768548965454, Accuracy: 0.548799991607666\n",
      "Epoch 15, CIFAR-10 Batch 3:  Loss: 0.9973350763320923, Accuracy: 0.5559999942779541\n",
      "Epoch 15, CIFAR-10 Batch 4:  Loss: 1.2519890069961548, Accuracy: 0.551800012588501\n",
      "Epoch 15, CIFAR-10 Batch 5:  Loss: 1.102741003036499, Accuracy: 0.5691999793052673\n",
      "Epoch 16, CIFAR-10 Batch 1:  Loss: 1.3426134586334229, Accuracy: 0.5726000070571899\n",
      "Epoch 16, CIFAR-10 Batch 2:  Loss: 1.2055505514144897, Accuracy: 0.5645999908447266\n",
      "Epoch 16, CIFAR-10 Batch 3:  Loss: 0.9757994413375854, Accuracy: 0.5658000111579895\n",
      "Epoch 16, CIFAR-10 Batch 4:  Loss: 1.2131092548370361, Accuracy: 0.5654000043869019\n",
      "Epoch 16, CIFAR-10 Batch 5:  Loss: 1.1138712167739868, Accuracy: 0.573199987411499\n",
      "Epoch 17, CIFAR-10 Batch 1:  Loss: 1.2650089263916016, Accuracy: 0.5730000138282776\n",
      "Epoch 17, CIFAR-10 Batch 2:  Loss: 1.103697657585144, Accuracy: 0.5687999725341797\n",
      "Epoch 17, CIFAR-10 Batch 3:  Loss: 0.9655023813247681, Accuracy: 0.5726000070571899\n",
      "Epoch 17, CIFAR-10 Batch 4:  Loss: 1.1797176599502563, Accuracy: 0.5651999711990356\n",
      "Epoch 17, CIFAR-10 Batch 5:  Loss: 1.1404584646224976, Accuracy: 0.5712000131607056\n",
      "Epoch 18, CIFAR-10 Batch 1:  Loss: 1.3228894472122192, Accuracy: 0.5658000111579895\n",
      "Epoch 18, CIFAR-10 Batch 2:  Loss: 1.093619704246521, Accuracy: 0.5735999941825867\n",
      "Epoch 18, CIFAR-10 Batch 3:  Loss: 0.954254150390625, Accuracy: 0.5694000124931335\n",
      "Epoch 18, CIFAR-10 Batch 4:  Loss: 1.2045930624008179, Accuracy: 0.5776000022888184\n",
      "Epoch 18, CIFAR-10 Batch 5:  Loss: 1.0623133182525635, Accuracy: 0.5734000205993652\n",
      "Epoch 19, CIFAR-10 Batch 1:  Loss: 1.2278730869293213, Accuracy: 0.5720000267028809\n",
      "Epoch 19, CIFAR-10 Batch 2:  Loss: 1.0840320587158203, Accuracy: 0.5735999941825867\n",
      "Epoch 19, CIFAR-10 Batch 3:  Loss: 0.9340710639953613, Accuracy: 0.5651999711990356\n",
      "Epoch 19, CIFAR-10 Batch 4:  Loss: 1.0957300662994385, Accuracy: 0.5741999745368958\n",
      "Epoch 19, CIFAR-10 Batch 5:  Loss: 1.06534743309021, Accuracy: 0.5763999819755554\n",
      "Epoch 20, CIFAR-10 Batch 1:  Loss: 1.2712211608886719, Accuracy: 0.5740000009536743\n",
      "Epoch 20, CIFAR-10 Batch 2:  Loss: 1.06278395652771, Accuracy: 0.5663999915122986\n",
      "Epoch 20, CIFAR-10 Batch 3:  Loss: 0.9045373201370239, Accuracy: 0.5748000144958496\n",
      "Epoch 20, CIFAR-10 Batch 4:  Loss: 1.0912708044052124, Accuracy: 0.5705999732017517\n",
      "Epoch 20, CIFAR-10 Batch 5:  Loss: 1.0124696493148804, Accuracy: 0.5867999792098999\n"
     ]
    }
   ],
   "source": [
    "\"\"\"\n",
    "DON'T MODIFY ANYTHING IN THIS CELL\n",
    "\"\"\"\n",
    "save_model_path = './image_classification2'\n",
    "\n",
    "print('Training...')\n",
    "with tf.Session() as sess:\n",
    "    # Initializing the variables\n",
    "    sess.run(tf.global_variables_initializer())\n",
    "    \n",
    "    # Training cycle\n",
    "    for epoch in range(epochs):\n",
    "        # Loop over all batches\n",
    "        n_batches = 5\n",
    "        for batch_i in range(1, n_batches + 1):\n",
    "            for batch_features, batch_labels in helper.load_preprocess_training_batch(batch_i, batch_size):\n",
    "                train_neural_network(sess, optimizer, keep_probability, batch_features, batch_labels)\n",
    "            print('Epoch {:>2}, CIFAR-10 Batch {}:  '.format(epoch + 1, batch_i), end='')\n",
    "            print_stats(sess, batch_features, batch_labels, cost, accuracy)\n",
    "            \n",
    "    # Save Model\n",
    "    saver = tf.train.Saver()\n",
    "    save_path = saver.save(sess, save_model_path)"
   ]
  },
  {
   "cell_type": "markdown",
   "metadata": {},
   "source": [
    "# Checkpoint\n",
    "The model has been saved to disk.\n",
    "## Test Model\n",
    "Test your model against the test dataset.  This will be your final accuracy. You should have an accuracy greater than 50%. If you don't, keep tweaking the model architecture and parameters."
   ]
  },
  {
   "cell_type": "code",
   "execution_count": 15,
   "metadata": {
    "collapsed": false
   },
   "outputs": [
    {
     "name": "stdout",
     "output_type": "stream",
     "text": [
      "Testing Accuracy: 0.5828025477707006\n",
      "\n"
     ]
    },
    {
     "data": {
      "image/png": "[encoded data removed]",
      "text/plain": [
       "<matplotlib.figure.Figure at 0x12a39c358>"
      ]
     },
     "metadata": {
      "image/png": {
       "height": 319,
       "width": 355
      }
     },
     "output_type": "display_data"
    }
   ],
   "source": [
    "\"\"\"\n",
    "DON'T MODIFY ANYTHING IN THIS CELL\n",
    "\"\"\"\n",
    "%matplotlib inline\n",
    "%config InlineBackend.figure_format = 'retina'\n",
    "\n",
    "import tensorflow as tf\n",
    "import pickle\n",
    "import helper\n",
    "import random\n",
    "\n",
    "# Set batch size if not already set\n",
    "try:\n",
    "    if batch_size:\n",
    "        pass\n",
    "except NameError:\n",
    "    batch_size = 64\n",
    "\n",
    "save_model_path = './image_classification2'\n",
    "n_samples = 4\n",
    "top_n_predictions = 3\n",
    "\n",
    "def test_model():\n",
    "    \"\"\"\n",
    "    Test the saved model against the test dataset\n",
    "    \"\"\"\n",
    "\n",
    "    test_features, test_labels = pickle.load(open('preprocess_training.p', mode='rb'))\n",
    "    loaded_graph = tf.Graph()\n",
    "\n",
    "    with tf.Session(graph=loaded_graph) as sess:\n",
    "        # Load model\n",
    "        loader = tf.train.import_meta_graph(save_model_path + '.meta')\n",
    "        loader.restore(sess, save_model_path)\n",
    "\n",
    "        # Get Tensors from loaded model\n",
    "        loaded_x = loaded_graph.get_tensor_by_name('x:0')\n",
    "        loaded_y = loaded_graph.get_tensor_by_name('y:0')\n",
    "        loaded_keep_prob = loaded_graph.get_tensor_by_name('keep_prob:0')\n",
    "        loaded_logits = loaded_graph.get_tensor_by_name('logits:0')\n",
    "        loaded_acc = loaded_graph.get_tensor_by_name('accuracy:0')\n",
    "        \n",
    "        # Get accuracy in batches for memory limitations\n",
    "        test_batch_acc_total = 0\n",
    "        test_batch_count = 0\n",
    "        \n",
    "        for train_feature_batch, train_label_batch in helper.batch_features_labels(test_features, test_labels, batch_size):\n",
    "            test_batch_acc_total += sess.run(\n",
    "                loaded_acc,\n",
    "                feed_dict={loaded_x: train_feature_batch, loaded_y: train_label_batch, loaded_keep_prob: 1.0})\n",
    "            test_batch_count += 1\n",
    "\n",
    "        print('Testing Accuracy: {}\\n'.format(test_batch_acc_total/test_batch_count))\n",
    "\n",
    "        # Print Random Samples\n",
    "        random_test_features, random_test_labels = tuple(zip(*random.sample(list(zip(test_features, test_labels)), n_samples)))\n",
    "        random_test_predictions = sess.run(\n",
    "            tf.nn.top_k(tf.nn.softmax(loaded_logits), top_n_predictions),\n",
    "            feed_dict={loaded_x: random_test_features, loaded_y: random_test_labels, loaded_keep_prob: 1.0})\n",
    "        helper.display_image_predictions(random_test_features, random_test_labels, random_test_predictions)\n",
    "\n",
    "\n",
    "test_model()"
   ]
  },
  {
   "cell_type": "markdown",
   "metadata": {},
   "source": [
    "## Why 50-70% Accuracy?\n",
    "You might be wondering why you can't get an accuracy any higher. First things first, 50% isn't bad for a simple CNN.  Pure guessing would get you 10% accuracy. However, you might notice people are getting scores [well above 70%](http://rodrigob.github.io/are_we_there_yet/build/classification_datasets_results.html#43494641522d3130).  That's because we haven't taught you all there is to know about neural networks. We still need to cover a few more techniques.\n",
    "## Submitting This Project\n",
    "When submitting this project, make sure to run all the cells before saving the notebook.  Save the notebook file as \"dlnd_image_classification.ipynb\" and save it as a HTML file under \"File\" -> \"Download as\".  Include the \"helper.py\" and \"problem_unittests.py\" files in your submission."
   ]
  }
 ],
 "metadata": {
  "anaconda-cloud": {},
  "kernelspec": {
   "display_name": "Python [conda env:deep-learning]",
   "language": "python",
   "name": "conda-env-deep-learning-py"
  },
  "language_info": {
   "codemirror_mode": {
    "name": "ipython",
    "version": 3
   },
   "file_extension": ".py",
   "mimetype": "text/x-python",
   "name": "python",
   "nbconvert_exporter": "python",
   "pygments_lexer": "ipython3",
   "version": "3.6.0"
  }
 },
 "nbformat": 4,
 "nbformat_minor": 0
}
